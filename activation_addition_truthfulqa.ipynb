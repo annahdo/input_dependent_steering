{
 "cells": [
  {
   "cell_type": "markdown",
   "id": "c8812879",
   "metadata": {},
   "source": [
    "# Activation addition on truthful qa"
   ]
  },
  {
   "cell_type": "code",
   "execution_count": 1,
   "id": "7d78bb45",
   "metadata": {},
   "outputs": [],
   "source": [
    "import torch\n",
    "from transformers import AutoTokenizer, AutoConfig, AutoModelForCausalLM\n",
    "import numpy as np\n",
    "from tqdm import tqdm\n",
    "import gc\n",
    "from datasets import load_dataset\n",
    "import torch.nn.functional as F"
   ]
  },
  {
   "cell_type": "code",
   "execution_count": 2,
   "id": "f28f4eef",
   "metadata": {},
   "outputs": [
    {
     "name": "stdout",
     "output_type": "stream",
     "text": [
      "cuda:0\n"
     ]
    }
   ],
   "source": [
    "device = torch.device('cuda:0') if torch.cuda.is_available() else torch.device('cpu')\n",
    "print(device)"
   ]
  },
  {
   "cell_type": "code",
   "execution_count": 3,
   "id": "78ff3e5a",
   "metadata": {},
   "outputs": [],
   "source": [
    "# set this to your path\n",
    "my_path = \"./\""
   ]
  },
  {
   "cell_type": "code",
   "execution_count": 4,
   "id": "4d1043a6",
   "metadata": {},
   "outputs": [],
   "source": [
    "# import my modules\n",
    "import sys\n",
    "import importlib\n",
    "\n",
    "sys.path.append(my_path+\"modules\")\n",
    "import wrapping\n",
    "import aa_utils\n",
    "\n",
    "importlib.reload(wrapping)\n",
    "importlib.reload(aa_utils)\n",
    "\n",
    "from wrapping import WrappedModel\n",
    "from aa_utils import *"
   ]
  },
  {
   "cell_type": "code",
   "execution_count": 5,
   "id": "6630542d",
   "metadata": {},
   "outputs": [],
   "source": [
    "llama_models = [\n",
    "    \"/data/private_models/cais_models/llama/llama_hf_weights_v1.1/llama-7b\",\n",
    "    \"/data/private_models/cais_models/llama/llama_hf_weights_v1.1/llama-30b\",\n",
    "    \"/data/private_models/cais_models/llama/llama_hf_weights_v1.1/llama-13b\",\n",
    "    \"/data/private_models/cais_models/llama-2/llama/llama-2-7b-chat-hf\"\n",
    "]\n",
    "\n",
    "# model_path = 'meta-llama/Llama-2-7b-chat-hf'\n",
    "model_path = 'mistralai/Mistral-7B-Instruct-v0.1'\n",
    "model_name = model_path.split(\"/\")[-1]\n",
    "hf_token = None #input()\n",
    "\n"
   ]
  },
  {
   "cell_type": "code",
   "execution_count": 6,
   "id": "5388f7cd",
   "metadata": {},
   "outputs": [
    {
     "data": {
      "application/vnd.jupyter.widget-view+json": {
       "model_id": "a7ba4cd7fda7437786d5f620b140e51d",
       "version_major": 2,
       "version_minor": 0
      },
      "text/plain": [
       "Loading checkpoint shards:   0%|          | 0/2 [00:00<?, ?it/s]"
      ]
     },
     "metadata": {},
     "output_type": "display_data"
    }
   ],
   "source": [
    "# load model\n",
    "precision = torch.bfloat16\n",
    "config = AutoConfig.from_pretrained(model_path, trust_remote_code=True, token=hf_token)\n",
    "use_fast_tokenizer = \"LlamaForCausalLM\" not in config.architectures\n",
    "tokenizer = AutoTokenizer.from_pretrained(model_path, use_fast=use_fast_tokenizer, padding_side=\"left\", torch_dtype=precision)\n",
    "tokenizer.padding_side = \"left\"\n",
    "tokenizer.pad_token_id = 0 if tokenizer.pad_token_id is None else tokenizer.pad_token_id\n",
    "# tokenizer.bos_token_id = 1\n",
    "model = AutoModelForCausalLM.from_pretrained(model_path,  device_map=\"auto\", torch_dtype=precision, token=hf_token)"
   ]
  },
  {
   "cell_type": "code",
   "execution_count": 7,
   "id": "72417cf7",
   "metadata": {},
   "outputs": [],
   "source": [
    "# parameters\n",
    "batch_size = 32\n",
    "\n",
    "user_tag = \"<s>[INST] \"\n",
    "assistant_tag = \" [/INST]\"\n",
    "\n",
    "positive_addon = 'Give the correct answer. '\n",
    "negative_addon = 'Give an incorrect but plausible answer. '\n",
    "\n",
    "# define parameters for wrapping and activation addition\n",
    "layer_ids = np.arange(17, 24)\n",
    "block_name = \"decoder_block\""
   ]
  },
  {
   "cell_type": "code",
   "execution_count": 8,
   "id": "88c149ab",
   "metadata": {},
   "outputs": [],
   "source": [
    "def load_tqa_sentences(user_tag, assistant_tag, preset=\"\"):\n",
    "    dataset = load_dataset('truthful_qa', 'multiple_choice')['validation']\n",
    "    questions, answers = [],[]\n",
    "    labels = []\n",
    "    for d in dataset:\n",
    "        q = d['question']\n",
    "        for i in range(len(d['mc1_targets']['labels'])):\n",
    "            a = d['mc1_targets']['choices'][i]\n",
    "            questions = [f'{user_tag}' + q + ' ' + preset] + questions\n",
    "            answers = [f'{assistant_tag}' + a] + answers\n",
    "            # questions.append(f'{user_tag}' + q + preset)\n",
    "            # answers.append(f'{assistant_tag}' + a)\n",
    "        # labels.append(d['mc1_targets']['labels'])\n",
    "        ls = d['mc1_targets']['labels']\n",
    "        ls.reverse()\n",
    "        labels.insert(0, ls)\n",
    "    return questions, answers, labels\n",
    "\n",
    "def get_logprobs(logits, input_ids, masks, **kwargs):\n",
    "    logprobs = F.log_softmax(logits, dim=-1)[:, :-1]\n",
    "    # find the logprob of the input ids that actually come next in the sentence\n",
    "    logprobs = torch.gather(logprobs, -1, input_ids[:, 1:, None])\n",
    "    logprobs = logprobs * masks[:, 1:, None] \n",
    "    return logprobs.squeeze(-1)\n",
    "    \n",
    "def prepare_decoder_only_inputs(prompts, targets, tokenizer, device):\n",
    "    tokenizer.padding_side = \"left\"\n",
    "    prompt_inputs = tokenizer(prompts, return_tensors=\"pt\", padding=True, truncation=False)\n",
    "    tokenizer.padding_side = \"right\"\n",
    "    target_inputs = tokenizer(targets, return_tensors=\"pt\", padding=True, truncation=False)\n",
    "    \n",
    "    # concatenate prompt and target tokens and send to device\n",
    "    inputs = {k: torch.cat([prompt_inputs[k], target_inputs[k]], dim=1).to(device) for k in prompt_inputs}\n",
    "\n",
    "    # mask is zero for padding tokens\n",
    "    mask = inputs[\"attention_mask\"].clone()\n",
    "    # set mask to 0 for question tokens\n",
    "    mask[:, :prompt_inputs[\"input_ids\"].shape[1]] = 0\n",
    "    mask.to(device)\n",
    "    # remove token_type_ids\n",
    "    if \"token_type_ids\" in inputs:\n",
    "        del inputs[\"token_type_ids\"]\n",
    "    \n",
    "    return inputs, mask, prompt_inputs[\"input_ids\"].shape[1]\n",
    "\n",
    "def calc_acc(labels, output_logprobs):\n",
    "    # check if the max logprob corresponds to the correct answer\n",
    "    correct = np.zeros(len(labels))\n",
    "    # indices to index\n",
    "    indices = np.cumsum([len(l) for l in labels])\n",
    "    indices = np.insert(indices, 0, 0)\n",
    "    for i, label in enumerate(labels):\n",
    "        # check \n",
    "        log_probs = output_logprobs[indices[i]:indices[i+1]]\n",
    "        correct[i] = np.argmax(log_probs) == label.index(1)\n",
    "    return correct.mean()\n",
    "\n",
    "def get_tqa_accuracy(model, questions, answers, labels, tokenizer, batch_size=128):\n",
    "    gc.collect()\n",
    "    # get the log probabilities of each question answer pair\n",
    "    output_logprobs = []\n",
    "    for q_batch, a_batch in tqdm(zip(batchify(questions, batch_size), batchify(answers, batch_size)), total=len(questions)//batch_size):\n",
    "        inputs, masks, _ = prepare_decoder_only_inputs(q_batch, a_batch, tokenizer, model.device)\n",
    "\n",
    "        with torch.no_grad():\n",
    "            if isinstance(model, WrappedModel):\n",
    "                # set the masks so that we do not add to tokens of input sentences and padding tokens\n",
    "                model.set_masks(masks.unsqueeze(-1))\n",
    "\n",
    "            # calculate the probabilities for all tokens (all question answer pairs)\n",
    "            logits = model(**inputs).logits\n",
    "            # sum the probabilities for each question answer pair so that each pair has one probability\n",
    "            # mask is zero for question and padding tokens\n",
    "            logprobs = get_logprobs(logits, inputs['input_ids'], masks).sum(-1).detach().cpu().numpy()\n",
    "        output_logprobs.extend(logprobs)\n",
    "\n",
    "    return calc_acc(labels, output_logprobs)"
   ]
  },
  {
   "cell_type": "code",
   "execution_count": 9,
   "id": "c2acfe74",
   "metadata": {},
   "outputs": [
    {
     "name": "stdout",
     "output_type": "stream",
     "text": [
      "random_acc: 0.22605616877342702\n"
     ]
    }
   ],
   "source": [
    "# questions contain the question repeated as many times as there are different answers\n",
    "# answers contain the different answers\n",
    "# questions and answers have the same length\n",
    "# labels contain lists of labels, where the correct answer is marked with 1 and all other answers with 0\n",
    "# labels is shorter than questions and answers namely as long as there are different questions.\n",
    "questions, answers, labels = load_tqa_sentences(user_tag=\"\", assistant_tag=\"\", preset=\"\")\n",
    "\n",
    "correct = []\n",
    "for l in labels:\n",
    "    correct.append(1/len(l))\n",
    "random_acc = np.mean(correct)\n",
    "print(f\"random_acc: {random_acc}\")"
   ]
  },
  {
   "cell_type": "code",
   "execution_count": 10,
   "id": "f32161d7",
   "metadata": {},
   "outputs": [
    {
     "name": "stderr",
     "output_type": "stream",
     "text": [
      "129it [00:27,  4.77it/s]                         "
     ]
    },
    {
     "name": "stdout",
     "output_type": "stream",
     "text": [
      "model_baseline_acc: 0.3463892288861689\n"
     ]
    },
    {
     "name": "stderr",
     "output_type": "stream",
     "text": [
      "\n"
     ]
    }
   ],
   "source": [
    "questions, answers, labels = load_tqa_sentences(user_tag=user_tag, assistant_tag=assistant_tag, preset=\"\")\n",
    "model_baseline_acc = get_tqa_accuracy(model, questions, answers, labels, tokenizer, batch_size=batch_size)\n",
    "print(f\"model_baseline_acc: {model_baseline_acc}\")"
   ]
  },
  {
   "cell_type": "code",
   "execution_count": 11,
   "id": "87fad3a6",
   "metadata": {},
   "outputs": [
    {
     "name": "stderr",
     "output_type": "stream",
     "text": [
      "129it [00:29,  4.43it/s]                         "
     ]
    },
    {
     "name": "stdout",
     "output_type": "stream",
     "text": [
      "model_baseline_preset_acc: 0.3378212974296206\n"
     ]
    },
    {
     "name": "stderr",
     "output_type": "stream",
     "text": [
      "\n"
     ]
    }
   ],
   "source": [
    "questions, answers, labels = load_tqa_sentences(user_tag=user_tag, assistant_tag=assistant_tag, preset=positive_addon)\n",
    "model_baseline_preset_acc = get_tqa_accuracy(model, questions, answers, labels, tokenizer, batch_size=batch_size)\n",
    "print(f\"model_baseline_preset_acc: {model_baseline_preset_acc}\")"
   ]
  },
  {
   "cell_type": "code",
   "execution_count": 12,
   "id": "098eebb4",
   "metadata": {},
   "outputs": [],
   "source": [
    "# wrapping the model\n",
    "# create wrapped model\n",
    "wrapped_model = WrappedModel(model, tokenizer)\n",
    "# make sure nothing is wrapped from previous runs\n",
    "wrapped_model.unwrap()\n",
    "# wrap model at desired layers and blocks\n",
    "wrapped_model.wrap_block(layer_ids, block_name=block_name)"
   ]
  },
  {
   "cell_type": "code",
   "execution_count": 13,
   "id": "94235add",
   "metadata": {},
   "outputs": [
    {
     "name": "stderr",
     "output_type": "stream",
     "text": [
      "129it [00:26,  4.83it/s]                         "
     ]
    },
    {
     "name": "stdout",
     "output_type": "stream",
     "text": [
      "naive activation addition: Give the correct answer.  - Give an incorrect but plausible answer. \n",
      "model_naive_aa_acc: 0.2533659730722154\n"
     ]
    },
    {
     "name": "stderr",
     "output_type": "stream",
     "text": [
      "\n"
     ]
    }
   ],
   "source": [
    "# naive activation addition\n",
    "wrapped_model.reset()\n",
    "wrapped_model.run_prompt(positive_addon)\n",
    "pos_act = wrapped_model.get_activations(layer_ids, block_name=block_name)\n",
    "wrapped_model.reset()\n",
    "coeff = 1\n",
    "wrapped_model.run_prompt(negative_addon)\n",
    "neg_act = wrapped_model.get_activations(layer_ids, block_name=block_name)\n",
    "truth_directions = {}\n",
    "for layer_id in layer_ids:\n",
    "    # take difference at last token id\n",
    "    truth_directions[layer_id] = coeff*(pos_act[layer_id][0, -1] - neg_act[layer_id][0, -1])\n",
    "\n",
    "# set activations to add\n",
    "wrapped_model.reset()\n",
    "wrapped_model.set_to_add(layer_ids, truth_directions, block_name=block_name, normalize=True)\n",
    "\n",
    "# calculate accuracy\n",
    "questions, answers, labels = load_tqa_sentences(user_tag=user_tag, assistant_tag=assistant_tag, preset=\"\")\n",
    "model_naive_aa_acc = get_tqa_accuracy(wrapped_model, questions, answers, labels, tokenizer, batch_size=batch_size)\n",
    "print(f\"naive activation addition: {positive_addon} - {negative_addon}\")\n",
    "print(f\"model_naive_aa_acc: {model_naive_aa_acc}\")"
   ]
  },
  {
   "cell_type": "code",
   "execution_count": 14,
   "id": "d784800a",
   "metadata": {},
   "outputs": [
    {
     "name": "stderr",
     "output_type": "stream",
     "text": [
      "129it [01:41,  1.27it/s]                         "
     ]
    },
    {
     "name": "stdout",
     "output_type": "stream",
     "text": [
      "model_sample_wise_aa_acc: 0.3806609547123623\n"
     ]
    },
    {
     "name": "stderr",
     "output_type": "stream",
     "text": [
      "\n"
     ]
    }
   ],
   "source": [
    "questions, answers, labels = load_tqa_sentences(user_tag=user_tag, assistant_tag=assistant_tag, preset=\" \")\n",
    "coeff = 1.0\n",
    "# get the log probabilities of each question answer pair\n",
    "output_logprobs = []\n",
    "for q_batch, a_batch in tqdm(zip(batchify(questions, batch_size), batchify(answers, batch_size)), total=len(questions)//batch_size):\n",
    "    gc.collect()\n",
    "    inputs, masks, orig_split = prepare_decoder_only_inputs(q_batch, a_batch, tokenizer, model.device)\n",
    "\n",
    "\n",
    "    q_batch_pos = [q + positive_addon for q in q_batch]\n",
    "    q_batch_neg = [q + negative_addon for q in q_batch]\n",
    "\n",
    "    inputs_pos_s, masks_pos_s, split_pos = prepare_decoder_only_inputs(q_batch_pos, a_batch, tokenizer, model.device)\n",
    "    inputs_neg_s, masks_neg_s, split_neg = prepare_decoder_only_inputs(q_batch_neg, a_batch, tokenizer, model.device)\n",
    "    wrapped_model.reset()\n",
    "\n",
    "    # get activations\n",
    "    directions = {}\n",
    "    with torch.no_grad():\n",
    "        wrapped_model.reset()\n",
    "        _ = wrapped_model(**inputs_pos_s)\n",
    "        pos_outputs = wrapped_model.get_activations(layer_ids, block_name=block_name)\n",
    "        _ = wrapped_model(**inputs_neg_s)\n",
    "        neg_outputs = wrapped_model.get_activations(layer_ids, block_name=block_name)\n",
    "        for layer_id in layer_ids:\n",
    "            directions[layer_id] = coeff*(pos_outputs[layer_id][:, split_pos:] - neg_outputs[layer_id][:, split_neg:])\n",
    "            len_tokens = directions[layer_id].shape[1]\n",
    "            directions[layer_id] = directions[layer_id]\n",
    "\n",
    "    # set question tokens to zero\n",
    "    # masks = masks[:,split_pos:].unsqueeze(-1)\n",
    "\n",
    "    wrapped_model.set_to_add(layer_ids, directions, \n",
    "                                masks=masks[:, orig_split:, None], \n",
    "                                token_pos=\"end\",\n",
    "                                normalize=True)\n",
    "\n",
    "    with torch.no_grad():\n",
    "        logits = wrapped_model(**inputs).logits\n",
    "        logprobs = get_logprobs(logits, inputs['input_ids'], masks).sum(-1).detach().cpu().numpy()\n",
    "    output_logprobs.extend(logprobs)\n",
    "\n",
    "    assert np.isnan(output_logprobs).sum() == 0, \"NaN in output logprobs\"\n",
    "\n",
    "model_sample_wise_aa_acc = calc_acc(labels, output_logprobs)\n",
    "print(f\"model_sample_wise_aa_acc: {model_sample_wise_aa_acc}\")"
   ]
  },
  {
   "cell_type": "code",
   "execution_count": 15,
   "id": "8c5a7cd8",
   "metadata": {},
   "outputs": [
    {
     "name": "stdout",
     "output_type": "stream",
     "text": [
      "model_sample_wise_aa_acc: 0.3806609547123623\n"
     ]
    }
   ],
   "source": [
    "print(f\"model_sample_wise_aa_acc: {model_sample_wise_aa_acc}\")"
   ]
  },
  {
   "cell_type": "code",
   "execution_count": null,
   "id": "eef8a608-2559-467b-bd39-420fd497b239",
   "metadata": {},
   "outputs": [],
   "source": []
  },
  {
   "cell_type": "code",
   "execution_count": null,
   "id": "77025558-4a45-4315-85fb-2b0abd0f137f",
   "metadata": {},
   "outputs": [],
   "source": []
  }
 ],
 "metadata": {
  "kernelspec": {
   "display_name": "Python 3 (ipykernel)",
   "language": "python",
   "name": "python3"
  },
  "language_info": {
   "codemirror_mode": {
    "name": "ipython",
    "version": 3
   },
   "file_extension": ".py",
   "mimetype": "text/x-python",
   "name": "python",
   "nbconvert_exporter": "python",
   "pygments_lexer": "ipython3",
   "version": "3.10.12"
  }
 },
 "nbformat": 4,
 "nbformat_minor": 5
}
